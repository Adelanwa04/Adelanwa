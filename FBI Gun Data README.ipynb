{
 "cells": [
  {
   "cell_type": "markdown",
   "id": "9ab0e3c0",
   "metadata": {},
   "source": [
    "## FBI Gun Data Vizualization\n",
    "\n",
    "\n",
    "## by Taiwo Adelanwa"
   ]
  },
  {
   "cell_type": "markdown",
   "id": "f7dd4ef4",
   "metadata": {},
   "source": [
    "## Dataset"
   ]
  },
  {
   "cell_type": "markdown",
   "id": "d5693b7c",
   "metadata": {},
   "source": [
    "The data comes from the FBI's National Instant Criminal Background Check System. The NICS is used by to determine whether a prospective buyer is eligible to buy firearms or explosives. Gun shops call into this system to ensure that each customer does not have a criminal record or isn’t otherwise ineligible to make a purchase. The data has been supplemented with state level data from census.gov.\n",
    "The NICS data is found in one sheet of an .xlsx file(converted to a .csv file). It contains the number of firearm checks by month, state, and type.\n",
    "The U.S. census data is found in a .csv file. It contains several variables at the state level. Most variables just have one data point per state (2016), but a few have data for more than one year.\n",
    "\n",
    "This dataset 12485 rows and 25 columns of data entries.\n",
    "\n",
    " -   month                      \n",
    " -   state                      \n",
    " -   permit                     \n",
    " -   permit_recheck            \n",
    " -   handgun                    \n",
    " -   long_gun                   \n",
    " -   other                      \n",
    " -   multiple                    \n",
    " -   admin                      \n",
    " -   prepawn_handgun            \n",
    " -  prepawn_long_gun           \n",
    " -  prepawn_other              \n",
    " -  redemption_handgun         \n",
    " -  redemption_long_gun        \n",
    " -  redemption_other           \n",
    " -  returned_handgun           \n",
    " -  returned_long_gun          \n",
    " -  returned_other             \n",
    " -  rentals_handgun            \n",
    " -  rentals_long_gun           \n",
    " -  private_sale_handgun       \n",
    " -  private_sale_long_gun      \n",
    " -  private_sale_other         \n",
    " -  return_to_seller_handgun   \n",
    " -  return_to_seller_long_gun  \n",
    " -  return_to_seller_other\n",
    "\n",
    "Asked Questions\n",
    "\n",
    "- Which states have had the highest growth in gun registrations?\n",
    "- What is the overall trend for gun purchases?\n",
    "- What is the trend of different categories of guns?\n",
    "- How are gun purchases and total permits correlated?"
   ]
  },
  {
   "cell_type": "markdown",
   "id": "acd42137",
   "metadata": {},
   "source": [
    "## Summary of Findings"
   ]
  },
  {
   "cell_type": "markdown",
   "id": "b3b9766d",
   "metadata": {},
   "source": [
    "Background Checks was officially launched in 1998 and since then,there is a steady progressing of gun purchase through the years. We noticed gun was less purchased in 2014 compared to 2 years before because there was an amended regulation in 2014 which ultimately causes the sudden change. This was also noticed in 2017. Guns are purchased the most in December maybe because of its a festive period and it is least purchased in May,June,July..\n",
    "\n",
    "We can categorically say that the top 5 states in gun purchase are; Texas, California, Pennsylvania, Florida and Ohio. As we can see in this graph, total gun purchase and its permit are positively correlated. \n",
    "\n",
    "Using summary statistics,\n",
    "\n",
    "- Approximately 8719 guns was purchased without permit.\n",
    "- Long guns was purchased the most out of different categories of guns available.\n",
    "- Generally other kinds of guns are relatively low compared to others in its category.\n",
    "- There's also a preference for long guns in each category of guns which means they made more sales than the rest in their category."
   ]
  },
  {
   "cell_type": "markdown",
   "id": "c9a04597",
   "metadata": {},
   "source": [
    "## Conclusion"
   ]
  },
  {
   "cell_type": "markdown",
   "id": "fc68ce72",
   "metadata": {},
   "source": [
    "My knowledge on data analysis has helped me to load and clean this data from its raw form that contains irrelevant columns,missing values and the irregularity in data type. Explore and communicate interesting insights with different kind of plots and statistical inferences using Pandas,Numpy and Matplotlib. This has enable me to easily solve some interesting questions which was listed at the beginning of this analysis using fact from the data. Background Checks was officially launched in 1998 and since then,there is a steady progressing of gun purchase through the years. We noticed gun was less purchased in 2014 compared to 2 years before because there was an amended regulation in 2014 which ultimately causes the sudden change. This was also noticed in 2017,Over the years, we can see there's a preference for Long guns except in 2016 where hand gun made more purchases. Other kinds of gun has been relatively low in purchases compared to others."
   ]
  },
  {
   "cell_type": "code",
   "execution_count": null,
   "id": "9ac52f61",
   "metadata": {},
   "outputs": [],
   "source": []
  }
 ],
 "metadata": {
  "kernelspec": {
   "display_name": "Python 3 (ipykernel)",
   "language": "python",
   "name": "python3"
  },
  "language_info": {
   "codemirror_mode": {
    "name": "ipython",
    "version": 3
   },
   "file_extension": ".py",
   "mimetype": "text/x-python",
   "name": "python",
   "nbconvert_exporter": "python",
   "pygments_lexer": "ipython3",
   "version": "3.9.12"
  }
 },
 "nbformat": 4,
 "nbformat_minor": 5
}
