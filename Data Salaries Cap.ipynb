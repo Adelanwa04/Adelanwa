{
 "cells": [
  {
   "cell_type": "markdown",
   "id": "957d2cdf",
   "metadata": {},
   "source": [
    "## Overview"
   ]
  },
  {
   "cell_type": "markdown",
   "id": "235e8879",
   "metadata": {},
   "source": [
    "This Dataset contains Various Data Science related Jobs and Salaries. This dataset has 10 columns and 245 rows. These columns are explained as follows;\n",
    "- work_year\n",
    " The year during which the salary was paid. There are two types of work year values:\n",
    "2020\n",
    "Year with a definitive amount from the past\n",
    "2021e\n",
    "Year with an estimated amount (e.g. current year)\n",
    "\n",
    "- experience_level\n",
    "The experience level in the job during the year with the following possible values:\n",
    "EN - Entry-level / Junior\n",
    "MI - Mid-level / Intermediate\n",
    "SE - Senior-level / Expert\n",
    "EX - Executive-level / Director\n",
    "\n",
    "- employment_type\n",
    "The type of employement for the role:\n",
    "PT - Part-time\n",
    "FT - Full-time\n",
    "CT - Contract\n",
    "FL - Freelance\n",
    "\n",
    "- job_title\n",
    "The role worked in during the year.\n",
    "salary\n",
    "The total gross salary amount paid.\n",
    "\n",
    "- salary_currency\n",
    "The currency of the salary paid as an ISO 4217 currency code.\n",
    "\n",
    "- salary_in_usd\n",
    "The salary in USD (FX rate divided by avg. USD rate for the respective year via fxdata.foorilla.com).\n",
    "\n",
    "- employee_residence\n",
    "Employee's primary country of residence in during the work year as an ISO 3166 country code.\n",
    "\n",
    "- remote_ratio\n",
    "The overall amount of work done remotely, possible values are as follows:\n",
    "0 - No remote work (less than 20%)\n",
    "50 - Partially remote\n",
    "100 - Fully remote (more than 80%)\n",
    "\n",
    "- company_location\n",
    "The country of the employer's main office or contracting branch as an ISO 3166 country code.\n",
    "\n",
    "- company_size\n",
    "The average number of people that worked for the company during the year:\n",
    "S - less than 50 employees (small)\n",
    "M - 50 to 250 employees (medium)\n",
    "L - more than 250 employees (large)\n",
    "\n",
    "Dataset Source - ai-jobs.net Salaries"
   ]
  },
  {
   "cell_type": "code",
   "execution_count": 1,
   "id": "a8f3ab81",
   "metadata": {},
   "outputs": [],
   "source": [
    "# Import library\n",
    "import pandas as pd"
   ]
  },
  {
   "cell_type": "code",
   "execution_count": 2,
   "id": "6e69c49e",
   "metadata": {
    "scrolled": false
   },
   "outputs": [
    {
     "data": {
      "text/html": [
       "<div>\n",
       "<style scoped>\n",
       "    .dataframe tbody tr th:only-of-type {\n",
       "        vertical-align: middle;\n",
       "    }\n",
       "\n",
       "    .dataframe tbody tr th {\n",
       "        vertical-align: top;\n",
       "    }\n",
       "\n",
       "    .dataframe thead th {\n",
       "        text-align: right;\n",
       "    }\n",
       "</style>\n",
       "<table border=\"1\" class=\"dataframe\">\n",
       "  <thead>\n",
       "    <tr style=\"text-align: right;\">\n",
       "      <th></th>\n",
       "      <th>work_year</th>\n",
       "      <th>experience_level</th>\n",
       "      <th>employment_type</th>\n",
       "      <th>job_title</th>\n",
       "      <th>salary</th>\n",
       "      <th>salary_currency</th>\n",
       "      <th>salary_in_usd</th>\n",
       "      <th>employee_residence</th>\n",
       "      <th>remote_ratio</th>\n",
       "      <th>company_location</th>\n",
       "      <th>company_size</th>\n",
       "    </tr>\n",
       "  </thead>\n",
       "  <tbody>\n",
       "    <tr>\n",
       "      <th>0</th>\n",
       "      <td>2021e</td>\n",
       "      <td>EN</td>\n",
       "      <td>FT</td>\n",
       "      <td>Data Science Consultant</td>\n",
       "      <td>54000</td>\n",
       "      <td>EUR</td>\n",
       "      <td>64369</td>\n",
       "      <td>DE</td>\n",
       "      <td>50</td>\n",
       "      <td>DE</td>\n",
       "      <td>L</td>\n",
       "    </tr>\n",
       "    <tr>\n",
       "      <th>1</th>\n",
       "      <td>2020</td>\n",
       "      <td>SE</td>\n",
       "      <td>FT</td>\n",
       "      <td>Data Scientist</td>\n",
       "      <td>60000</td>\n",
       "      <td>EUR</td>\n",
       "      <td>68428</td>\n",
       "      <td>GR</td>\n",
       "      <td>100</td>\n",
       "      <td>US</td>\n",
       "      <td>L</td>\n",
       "    </tr>\n",
       "    <tr>\n",
       "      <th>2</th>\n",
       "      <td>2021e</td>\n",
       "      <td>EX</td>\n",
       "      <td>FT</td>\n",
       "      <td>Head of Data Science</td>\n",
       "      <td>85000</td>\n",
       "      <td>USD</td>\n",
       "      <td>85000</td>\n",
       "      <td>RU</td>\n",
       "      <td>0</td>\n",
       "      <td>RU</td>\n",
       "      <td>M</td>\n",
       "    </tr>\n",
       "    <tr>\n",
       "      <th>3</th>\n",
       "      <td>2021e</td>\n",
       "      <td>EX</td>\n",
       "      <td>FT</td>\n",
       "      <td>Head of Data</td>\n",
       "      <td>230000</td>\n",
       "      <td>USD</td>\n",
       "      <td>230000</td>\n",
       "      <td>RU</td>\n",
       "      <td>50</td>\n",
       "      <td>RU</td>\n",
       "      <td>L</td>\n",
       "    </tr>\n",
       "    <tr>\n",
       "      <th>4</th>\n",
       "      <td>2021e</td>\n",
       "      <td>EN</td>\n",
       "      <td>FT</td>\n",
       "      <td>Machine Learning Engineer</td>\n",
       "      <td>125000</td>\n",
       "      <td>USD</td>\n",
       "      <td>125000</td>\n",
       "      <td>US</td>\n",
       "      <td>100</td>\n",
       "      <td>US</td>\n",
       "      <td>S</td>\n",
       "    </tr>\n",
       "    <tr>\n",
       "      <th>5</th>\n",
       "      <td>2021e</td>\n",
       "      <td>SE</td>\n",
       "      <td>FT</td>\n",
       "      <td>Data Analytics Manager</td>\n",
       "      <td>120000</td>\n",
       "      <td>USD</td>\n",
       "      <td>120000</td>\n",
       "      <td>US</td>\n",
       "      <td>100</td>\n",
       "      <td>US</td>\n",
       "      <td>M</td>\n",
       "    </tr>\n",
       "    <tr>\n",
       "      <th>6</th>\n",
       "      <td>2020</td>\n",
       "      <td>MI</td>\n",
       "      <td>FT</td>\n",
       "      <td>Research Scientist</td>\n",
       "      <td>450000</td>\n",
       "      <td>USD</td>\n",
       "      <td>450000</td>\n",
       "      <td>US</td>\n",
       "      <td>0</td>\n",
       "      <td>US</td>\n",
       "      <td>M</td>\n",
       "    </tr>\n",
       "    <tr>\n",
       "      <th>7</th>\n",
       "      <td>2020</td>\n",
       "      <td>MI</td>\n",
       "      <td>FT</td>\n",
       "      <td>Data Analyst</td>\n",
       "      <td>41000</td>\n",
       "      <td>EUR</td>\n",
       "      <td>46759</td>\n",
       "      <td>FR</td>\n",
       "      <td>50</td>\n",
       "      <td>FR</td>\n",
       "      <td>L</td>\n",
       "    </tr>\n",
       "    <tr>\n",
       "      <th>8</th>\n",
       "      <td>2020</td>\n",
       "      <td>MI</td>\n",
       "      <td>FT</td>\n",
       "      <td>Data Engineer</td>\n",
       "      <td>65000</td>\n",
       "      <td>EUR</td>\n",
       "      <td>74130</td>\n",
       "      <td>AT</td>\n",
       "      <td>50</td>\n",
       "      <td>AT</td>\n",
       "      <td>L</td>\n",
       "    </tr>\n",
       "    <tr>\n",
       "      <th>9</th>\n",
       "      <td>2021e</td>\n",
       "      <td>SE</td>\n",
       "      <td>FT</td>\n",
       "      <td>Data Science Engineer</td>\n",
       "      <td>159500</td>\n",
       "      <td>CAD</td>\n",
       "      <td>127543</td>\n",
       "      <td>CA</td>\n",
       "      <td>50</td>\n",
       "      <td>CA</td>\n",
       "      <td>L</td>\n",
       "    </tr>\n",
       "    <tr>\n",
       "      <th>10</th>\n",
       "      <td>2021e</td>\n",
       "      <td>SE</td>\n",
       "      <td>FT</td>\n",
       "      <td>Manager Data Science</td>\n",
       "      <td>144000</td>\n",
       "      <td>USD</td>\n",
       "      <td>144000</td>\n",
       "      <td>US</td>\n",
       "      <td>100</td>\n",
       "      <td>US</td>\n",
       "      <td>L</td>\n",
       "    </tr>\n",
       "  </tbody>\n",
       "</table>\n",
       "</div>"
      ],
      "text/plain": [
       "   work_year experience_level employment_type                  job_title  \\\n",
       "0      2021e               EN              FT    Data Science Consultant   \n",
       "1       2020               SE              FT             Data Scientist   \n",
       "2      2021e               EX              FT       Head of Data Science   \n",
       "3      2021e               EX              FT               Head of Data   \n",
       "4      2021e               EN              FT  Machine Learning Engineer   \n",
       "5      2021e               SE              FT     Data Analytics Manager   \n",
       "6       2020               MI              FT         Research Scientist   \n",
       "7       2020               MI              FT               Data Analyst   \n",
       "8       2020               MI              FT              Data Engineer   \n",
       "9      2021e               SE              FT      Data Science Engineer   \n",
       "10     2021e               SE              FT       Manager Data Science   \n",
       "\n",
       "    salary salary_currency  salary_in_usd employee_residence  remote_ratio  \\\n",
       "0    54000             EUR          64369                 DE            50   \n",
       "1    60000             EUR          68428                 GR           100   \n",
       "2    85000             USD          85000                 RU             0   \n",
       "3   230000             USD         230000                 RU            50   \n",
       "4   125000             USD         125000                 US           100   \n",
       "5   120000             USD         120000                 US           100   \n",
       "6   450000             USD         450000                 US             0   \n",
       "7    41000             EUR          46759                 FR            50   \n",
       "8    65000             EUR          74130                 AT            50   \n",
       "9   159500             CAD         127543                 CA            50   \n",
       "10  144000             USD         144000                 US           100   \n",
       "\n",
       "   company_location company_size  \n",
       "0                DE            L  \n",
       "1                US            L  \n",
       "2                RU            M  \n",
       "3                RU            L  \n",
       "4                US            S  \n",
       "5                US            M  \n",
       "6                US            M  \n",
       "7                FR            L  \n",
       "8                AT            L  \n",
       "9                CA            L  \n",
       "10               US            L  "
      ]
     },
     "execution_count": 2,
     "metadata": {},
     "output_type": "execute_result"
    }
   ],
   "source": [
    "# Load the dataset \n",
    "df = pd.read_csv('Data Jobs Salaries.csv')\n",
    "\n",
    "df.head(11)"
   ]
  },
  {
   "cell_type": "code",
   "execution_count": 3,
   "id": "6d240cca",
   "metadata": {},
   "outputs": [
    {
     "name": "stdout",
     "output_type": "stream",
     "text": [
      "<class 'pandas.core.frame.DataFrame'>\n",
      "RangeIndex: 245 entries, 0 to 244\n",
      "Data columns (total 11 columns):\n",
      " #   Column              Non-Null Count  Dtype \n",
      "---  ------              --------------  ----- \n",
      " 0   work_year           245 non-null    object\n",
      " 1   experience_level    245 non-null    object\n",
      " 2   employment_type     245 non-null    object\n",
      " 3   job_title           245 non-null    object\n",
      " 4   salary              245 non-null    int64 \n",
      " 5   salary_currency     245 non-null    object\n",
      " 6   salary_in_usd       245 non-null    int64 \n",
      " 7   employee_residence  245 non-null    object\n",
      " 8   remote_ratio        245 non-null    int64 \n",
      " 9   company_location    245 non-null    object\n",
      " 10  company_size        245 non-null    object\n",
      "dtypes: int64(3), object(8)\n",
      "memory usage: 21.2+ KB\n"
     ]
    }
   ],
   "source": [
    "# Check the completeness of the dataframe\n",
    "df.info()"
   ]
  },
  {
   "cell_type": "code",
   "execution_count": 4,
   "id": "6ec7f12e",
   "metadata": {},
   "outputs": [
    {
     "data": {
      "text/plain": [
       "1"
      ]
     },
     "execution_count": 4,
     "metadata": {},
     "output_type": "execute_result"
    }
   ],
   "source": [
    "# Check for duplicated value\n",
    "sum(df.duplicated())"
   ]
  },
  {
   "cell_type": "code",
   "execution_count": 5,
   "id": "936d7a36",
   "metadata": {},
   "outputs": [],
   "source": [
    "# Drop duplicated value\n",
    "df.drop_duplicates(inplace = True)"
   ]
  },
  {
   "cell_type": "code",
   "execution_count": 6,
   "id": "cb6a8887",
   "metadata": {},
   "outputs": [
    {
     "data": {
      "text/plain": [
       "0"
      ]
     },
     "execution_count": 6,
     "metadata": {},
     "output_type": "execute_result"
    }
   ],
   "source": [
    "# Verify!\n",
    "sum(df.duplicated())"
   ]
  },
  {
   "cell_type": "code",
   "execution_count": 7,
   "id": "554f2dc3",
   "metadata": {},
   "outputs": [],
   "source": [
    "# Drop invalid columns not needed for analysis \n",
    "df.drop(['work_year','salary_currency','salary','company_size'],axis=1,inplace=True)"
   ]
  },
  {
   "cell_type": "code",
   "execution_count": 8,
   "id": "7a3cb872",
   "metadata": {},
   "outputs": [
    {
     "name": "stdout",
     "output_type": "stream",
     "text": [
      "<class 'pandas.core.frame.DataFrame'>\n",
      "Int64Index: 244 entries, 0 to 244\n",
      "Data columns (total 7 columns):\n",
      " #   Column              Non-Null Count  Dtype \n",
      "---  ------              --------------  ----- \n",
      " 0   experience_level    244 non-null    object\n",
      " 1   employment_type     244 non-null    object\n",
      " 2   job_title           244 non-null    object\n",
      " 3   salary_in_usd       244 non-null    int64 \n",
      " 4   employee_residence  244 non-null    object\n",
      " 5   remote_ratio        244 non-null    int64 \n",
      " 6   company_location    244 non-null    object\n",
      "dtypes: int64(2), object(5)\n",
      "memory usage: 15.2+ KB\n"
     ]
    }
   ],
   "source": [
    "# Verify!\n",
    "df.info()"
   ]
  },
  {
   "cell_type": "code",
   "execution_count": 9,
   "id": "72d7109c",
   "metadata": {},
   "outputs": [],
   "source": [
    "# Rename for REMOTE_RATIO to WORK_MODEL for more clarity\n",
    "df = df.rename(columns= {'remote_ratio': 'work_model'})"
   ]
  },
  {
   "cell_type": "code",
   "execution_count": 10,
   "id": "14f6f0a8",
   "metadata": {},
   "outputs": [
    {
     "data": {
      "text/plain": [
       "Index(['experience_level', 'employment_type', 'job_title', 'salary_in_usd',\n",
       "       'employee_residence', 'work_model', 'company_location'],\n",
       "      dtype='object')"
      ]
     },
     "execution_count": 10,
     "metadata": {},
     "output_type": "execute_result"
    }
   ],
   "source": [
    "# Verify!\n",
    "df.columns"
   ]
  },
  {
   "cell_type": "code",
   "execution_count": 11,
   "id": "da38f5ff",
   "metadata": {},
   "outputs": [
    {
     "data": {
      "text/plain": [
       "array(['EN', 'SE', 'EX', 'MI'], dtype=object)"
      ]
     },
     "execution_count": 11,
     "metadata": {},
     "output_type": "execute_result"
    }
   ],
   "source": [
    "# Check values of EXPERIENCE_LEVEL column\n",
    "df['experience_level'].unique()"
   ]
  },
  {
   "cell_type": "code",
   "execution_count": 12,
   "id": "e00bd580",
   "metadata": {},
   "outputs": [],
   "source": [
    "# Rename values with its full meaning for clarity \n",
    "df['experience_level'] = df['experience_level'].replace('EN','Entry Level')\n",
    "df['experience_level'] = df['experience_level'].replace('SE','Senior Level')\n",
    "df['experience_level'] = df['experience_level'].replace('EX','Executive Level')\n",
    "df['experience_level'] = df['experience_level'].replace('MI','Intermediate  Level')"
   ]
  },
  {
   "cell_type": "code",
   "execution_count": 13,
   "id": "ed75d8a0",
   "metadata": {},
   "outputs": [
    {
     "data": {
      "text/plain": [
       "array(['Entry Level', 'Senior Level', 'Executive Level',\n",
       "       'Intermediate  Level'], dtype=object)"
      ]
     },
     "execution_count": 13,
     "metadata": {},
     "output_type": "execute_result"
    }
   ],
   "source": [
    "# Verify!\n",
    "df['experience_level'].unique()"
   ]
  },
  {
   "cell_type": "code",
   "execution_count": 14,
   "id": "ee1e45d2",
   "metadata": {},
   "outputs": [
    {
     "data": {
      "text/plain": [
       "array(['FT', 'PT', 'CT', 'FL'], dtype=object)"
      ]
     },
     "execution_count": 14,
     "metadata": {},
     "output_type": "execute_result"
    }
   ],
   "source": [
    "# Check values of EMPLOYMENT_LEVEL column\n",
    "df['employment_type'].unique()"
   ]
  },
  {
   "cell_type": "code",
   "execution_count": 15,
   "id": "572290e1",
   "metadata": {},
   "outputs": [],
   "source": [
    "# Replace values with it full meaning for more understanding \n",
    "df['employment_type'] = df['employment_type'].replace('FT','Full-Time')\n",
    "df['employment_type'] = df['employment_type'].replace('PT','Part-Time')\n",
    "df['employment_type'] = df['employment_type'].replace('CT','Contract')\n",
    "df['employment_type'] = df['employment_type'].replace('FL','Freelance')"
   ]
  },
  {
   "cell_type": "code",
   "execution_count": 16,
   "id": "c99f07c6",
   "metadata": {},
   "outputs": [
    {
     "data": {
      "text/plain": [
       "array(['Full-Time', 'Part-Time', 'Contract', 'Freelance'], dtype=object)"
      ]
     },
     "execution_count": 16,
     "metadata": {},
     "output_type": "execute_result"
    }
   ],
   "source": [
    "# Verify\n",
    "df['employment_type'].unique()"
   ]
  },
  {
   "cell_type": "code",
   "execution_count": 17,
   "id": "20788ea9",
   "metadata": {},
   "outputs": [],
   "source": [
    "# Replace values of WORK_MODEL for more analytical clarity\n",
    "df['work_model'] = df['work_model'].replace(0,'Office')\n",
    "df['work_model'] = df['work_model'].replace(50,'Hybrid')\n",
    "df['work_model'] = df['work_model'].replace(100,'Remote')"
   ]
  },
  {
   "cell_type": "code",
   "execution_count": 18,
   "id": "3dbfb0f2",
   "metadata": {},
   "outputs": [
    {
     "data": {
      "text/plain": [
       "array(['Hybrid', 'Remote', 'Office'], dtype=object)"
      ]
     },
     "execution_count": 18,
     "metadata": {},
     "output_type": "execute_result"
    }
   ],
   "source": [
    "# Verify\n",
    "df['work_model'].unique()"
   ]
  },
  {
   "cell_type": "code",
   "execution_count": 19,
   "id": "50b481c5",
   "metadata": {
    "scrolled": true
   },
   "outputs": [
    {
     "data": {
      "text/plain": [
       "array(['DE', 'US', 'RU', 'FR', 'AT', 'CA', 'UA', 'NG', 'IN', 'ES', 'PL',\n",
       "       'GB', 'PT', 'DK', 'SG', 'MX', 'TR', 'NL', 'AE', 'JP', 'CN', 'HU',\n",
       "       'KE', 'CO', 'NZ', 'IR', 'CL', 'PK', 'BE', 'GR', 'SI', 'BR', 'CH',\n",
       "       'IT', 'MD', 'LU', 'VN', 'AS', 'HR', 'IL', 'MT'], dtype=object)"
      ]
     },
     "execution_count": 19,
     "metadata": {},
     "output_type": "execute_result"
    }
   ],
   "source": [
    "# check the values of COMPANY_LOCATION\n",
    "df['company_location'].unique()"
   ]
  },
  {
   "cell_type": "code",
   "execution_count": 20,
   "id": "9691eadd",
   "metadata": {},
   "outputs": [
    {
     "data": {
      "text/plain": [
       "array(['Germany', 'United States', 'Russia', 'France', 'Austria',\n",
       "       'Canada', 'Ukraine', 'Nigeria', 'India', 'Spain', 'Poland',\n",
       "       'United Kingdom', 'Portugal', 'Denmark', 'Singapore', 'Mexico',\n",
       "       'Turkey', 'Netherlands', 'United Arab Emirates', 'Japan', 'China',\n",
       "       'Hungary', 'Kenya', 'Colombia', 'New Zealand', 'Liberia', 'Chile',\n",
       "       'Pakistan', 'Belgium', 'Greece', 'Slovenia', 'Burkina Faso',\n",
       "       'Switzerland', 'IT', 'Moldova', 'Luxembourg', 'Vietnam',\n",
       "       'American Samoa', 'Croatia', 'Israel', 'Malta'], dtype=object)"
      ]
     },
     "execution_count": 20,
     "metadata": {},
     "output_type": "execute_result"
    }
   ],
   "source": [
    "# Create a dictionary of key and values for COMPANY_LOCATION\n",
    "remove = {\"DE\":\"Germany\", \"US\":\"United States\", \"RU\":\"Russia\", \"FR\":\"France\",\n",
    "          \"AT\":\"Austria\", \"CA\":\"Canada\", \"UA\":\"Ukraine\", \"NG\":\"Nigeria\", \"IN\":\"India\", \"ES\":\"Spain\", \"PL\":\"Poland\",\"GB\":\"United Kingdom\",\n",
    "          \"PT\":\"Portugal\",\"DK\":\"Denmark\", \"SG\":\"Singapore\", \"MX\":\"Mexico\", \"TR\":\"Turkey\", \"NL\":\"Netherlands\", \"AE\":\"United Arab Emirates\", \"JP\":\"Japan\",\n",
    "          \"CN\":\"China\", \"HU\":\"Hungary\", \"KE\":\"Kenya\", \"CO\":\"Colombia\", \"NZ\":\"New Zealand\", \"IR\":\"Liberia\", \"CL\":\"Chile\", \"PK\":\"Pakistan\",\n",
    "          \"BE\":\"Belgium\", \"GR\":\"Greece\", \"SI\":\"Slovenia\",\"BR\":\"Burkina Faso\",\"CH\":\"Switzerland\",\"1T\":\"Italy\",\"MD\":\"Moldova\", \"LU\":\"Luxembourg\", \"VN\":\"Vietnam\",\n",
    "          \"AS\":\"American Samoa\", \"HR\":\"Croatia\",\"IL\":\"Israel\", \"MT\":\"Malta\"}\n",
    "\n",
    "# Using a loop replace each value with it key in COMPANY_LOCATION \n",
    "for char in remove.keys():\n",
    "    df['company_location'] = df['company_location'].replace(char, remove[char])\n",
    "    \n",
    "# Verify!   \n",
    "df['company_location'].unique()"
   ]
  },
  {
   "cell_type": "code",
   "execution_count": 21,
   "id": "ed10a35a",
   "metadata": {},
   "outputs": [
    {
     "data": {
      "text/plain": [
       "array(['Germany', 'Greece', 'Russia', 'United States', 'France',\n",
       "       'Austria', 'Canada', 'Ukraine', 'Nigeria', 'Pakistan', 'India',\n",
       "       'United Kingdom', 'Spain', 'IT', 'Poland', 'BG', 'PH', 'Portugal',\n",
       "       'Hungary', 'Singapore', 'Burkina Faso', 'Mexico', 'Turkey',\n",
       "       'Netherlands', 'United Arab Emirates', 'Japan', 'JE', 'PR', 'RS',\n",
       "       'Kenya', 'Colombia', 'New Zealand', 'Vietnam', 'Liberia', 'RO',\n",
       "       'Chile', 'Belgium', 'Denmark', 'China', 'HK', 'Slovenia',\n",
       "       'Moldova', 'Luxembourg', 'Croatia', 'Malta'], dtype=object)"
      ]
     },
     "execution_count": 21,
     "metadata": {},
     "output_type": "execute_result"
    }
   ],
   "source": [
    "# Create a dictionary of key and values for EMPLOYEE_RESIDENCE\n",
    "remove = {\"DE\":\"Germany\", \"US\":\"United States\", \"RU\":\"Russia\", \"FR\":\"France\",\n",
    "          \"AT\":\"Austria\", \"CA\":\"Canada\", \"UA\":\"Ukraine\", \"NG\":\"Nigeria\", \"IN\":\"India\", \"ES\":\"Spain\", \"PL\":\"Poland\",\"GB\":\"United Kingdom\",\n",
    "          \"PT\":\"Portugal\",\"DK\":\"Denmark\", \"SG\":\"Singapore\", \"MX\":\"Mexico\", \"TR\":\"Turkey\", \"NL\":\"Netherlands\", \"AE\":\"United Arab Emirates\", \"JP\":\"Japan\",\n",
    "          \"CN\":\"China\", \"HU\":\"Hungary\", \"KE\":\"Kenya\", \"CO\":\"Colombia\", \"NZ\":\"New Zealand\", \"IR\":\"Liberia\", \"CL\":\"Chile\", \"PK\":\"Pakistan\",\n",
    "          \"BE\":\"Belgium\", \"GR\":\"Greece\", \"SI\":\"Slovenia\",\"BR\":\"Burkina Faso\",\"CH\":\"Switzerland\",\"1T\":\"Italy\",\"MD\":\"Moldova\", \"LU\":\"Luxembourg\", \"VN\":\"Vietnam\",\n",
    "          \"AS\":\"American Samoa\", \"HR\":\"Croatia\",\"IL\":\"Israel\", \"MT\":\"Malta\"}\n",
    "\n",
    "# Using a loop replace each value with it key in EMPLOYEE_RESIDENCE \n",
    "for char in remove.keys():\n",
    "    df['employee_residence'] = df['employee_residence'].replace(char, remove[char])\n",
    "    \n",
    "    \n",
    "# Verify    \n",
    "df['employee_residence'].unique()"
   ]
  },
  {
   "cell_type": "code",
   "execution_count": 22,
   "id": "46ae16a3",
   "metadata": {},
   "outputs": [
    {
     "data": {
      "text/plain": [
       "array(['Data Science Consultant', 'Data Scientist',\n",
       "       'Head of Data Science', 'Head of Data',\n",
       "       'Machine Learning Engineer', 'Data Analytics Manager',\n",
       "       'Research Scientist', 'Data Analyst', 'Data Engineer',\n",
       "       'Data Science Engineer', 'Manager Data Science',\n",
       "       'Data Engineering Manager', 'AI Scientist',\n",
       "       '3D Computer Vision Researcher', 'ML Engineer',\n",
       "       'Applied Data Scientist', 'Director of Data Science',\n",
       "       'Data Analytics Engineer', 'Lead Data Analyst', 'BI Data Analyst',\n",
       "       'Machine Learning Scientist',\n",
       "       'Machine Learning Infrastructure Engineer',\n",
       "       'Marketing Data Analyst', 'Lead Data Engineer',\n",
       "       'Director of Data Engineering',\n",
       "       'Computer Vision Software Engineer', 'Financial Data Analyst',\n",
       "       'Cloud Data Engineer', 'Principal Data Analyst',\n",
       "       'Big Data Architect', 'Lead Data Scientist', 'Data Architect',\n",
       "       'Big Data Engineer', 'Staff Data Scientist',\n",
       "       'Data Science Manager', 'Business Data Analyst',\n",
       "       'Principal Data Scientist', 'Computer Vision Engineer',\n",
       "       'Product Data Analyst', 'Principal Data Engineer',\n",
       "       'Finance Data Analyst', 'Applied Machine Learning Scientist',\n",
       "       'Data Specialist'], dtype=object)"
      ]
     },
     "execution_count": 22,
     "metadata": {},
     "output_type": "execute_result"
    }
   ],
   "source": [
    "# Check values of JOB_TITLE column\n",
    "df['job_title'].unique()"
   ]
  },
  {
   "cell_type": "code",
   "execution_count": 23,
   "id": "9dbc2486",
   "metadata": {},
   "outputs": [],
   "source": [
    "Data_Scientist = ['Data Science Consultant', 'Data Scientist',\n",
    "       'Head of Data Science','Head of Data','Research Scientist'\n",
    "        ,'Manager Data Science','Applied Data Scientist', 'Director of Data Science',\n",
    "        'Lead Data Scientist','Staff Data Scientist','Data Science Manager','Principal Data Scientist','Data Specialist']\n",
    "\n",
    "Data_Analyst = ['Data Analytics Manager','Data Analyst','Lead Data Analyst', 'BI Data Analyst',\n",
    "                'Marketing Data Analyst','Financial Data Analyst','Principal Data Analyst','Business Data Analyst',\n",
    "                'Product Data Analyst','Finance Data Analyst']\n",
    "\n",
    "Data_Engineer = ['Data Engineering Manager','Data Engineer','Data Science Engineer','Data Analytics Engineer',\n",
    "                  'Lead Data Engineer','Director of Data Engineering','Cloud Data Engineer','Big Data Engineer',\n",
    "                  'Principal Data Engineer']\n",
    "\n",
    "Data_Architect = ['Big Data Architect','Data Architect']\n",
    " \n",
    "    \n",
    "Machine_Learning_Engineer = ['Machine Learning Engineer','ML Engineer','Machine Learning Scientist',\n",
    "                              'Machine Learning Infrastructure Engineer','Applied Machine Learning Scientist']\n",
    "\n",
    "\n",
    "AI_Engineer = ['AI Scientist']\n",
    "\n",
    "\n",
    "Computer_Vision_Engineer = ['3D Computer Vision Researcher','Computer Vision Software Engineer',\n",
    "                                  'Computer Vision Engineer']\n"
   ]
  },
  {
   "cell_type": "code",
   "execution_count": 24,
   "id": "180d54b2",
   "metadata": {},
   "outputs": [],
   "source": [
    "df['job_title'] = df['job_title'].replace(Data_Scientist,'Data scientist')\n",
    "df['job_title'] = df['job_title'].replace(Data_Analyst,'Data analyst')\n",
    "df['job_title'] = df['job_title'].replace(Data_Engineer,'Data engineer')\n",
    "df['job_title'] = df['job_title'].replace(Data_Architect,'Data architect')\n",
    "df['job_title'] = df['job_title'].replace(Machine_Learning_Engineer,'Machine learning engineer')\n",
    "df['job_title'] = df['job_title'].replace(AI_Engineer,'AI engineer')\n",
    "df['job_title'] = df['job_title'].replace(Computer_Vision_Engineer,'Computer vision engineer')"
   ]
  },
  {
   "cell_type": "code",
   "execution_count": 25,
   "id": "0322a23c",
   "metadata": {
    "scrolled": true
   },
   "outputs": [
    {
     "data": {
      "text/plain": [
       "array(['Data scientist', 'Machine learning engineer', 'Data analyst',\n",
       "       'Data engineer', 'AI engineer', 'Computer vision engineer',\n",
       "       'Data architect'], dtype=object)"
      ]
     },
     "execution_count": 25,
     "metadata": {},
     "output_type": "execute_result"
    }
   ],
   "source": [
    "df['job_title'].unique()"
   ]
  },
  {
   "cell_type": "code",
   "execution_count": 26,
   "id": "5121c5e2",
   "metadata": {
    "scrolled": true
   },
   "outputs": [
    {
     "data": {
      "text/html": [
       "<div>\n",
       "<style scoped>\n",
       "    .dataframe tbody tr th:only-of-type {\n",
       "        vertical-align: middle;\n",
       "    }\n",
       "\n",
       "    .dataframe tbody tr th {\n",
       "        vertical-align: top;\n",
       "    }\n",
       "\n",
       "    .dataframe thead th {\n",
       "        text-align: right;\n",
       "    }\n",
       "</style>\n",
       "<table border=\"1\" class=\"dataframe\">\n",
       "  <thead>\n",
       "    <tr style=\"text-align: right;\">\n",
       "      <th></th>\n",
       "      <th>experience_level</th>\n",
       "      <th>employment_type</th>\n",
       "      <th>job_title</th>\n",
       "      <th>salary_in_usd</th>\n",
       "      <th>employee_residence</th>\n",
       "      <th>work_model</th>\n",
       "      <th>company_location</th>\n",
       "    </tr>\n",
       "  </thead>\n",
       "  <tbody>\n",
       "    <tr>\n",
       "      <th>0</th>\n",
       "      <td>Entry Level</td>\n",
       "      <td>Full-Time</td>\n",
       "      <td>Data scientist</td>\n",
       "      <td>64369</td>\n",
       "      <td>Germany</td>\n",
       "      <td>Hybrid</td>\n",
       "      <td>Germany</td>\n",
       "    </tr>\n",
       "    <tr>\n",
       "      <th>1</th>\n",
       "      <td>Senior Level</td>\n",
       "      <td>Full-Time</td>\n",
       "      <td>Data scientist</td>\n",
       "      <td>68428</td>\n",
       "      <td>Greece</td>\n",
       "      <td>Remote</td>\n",
       "      <td>United States</td>\n",
       "    </tr>\n",
       "    <tr>\n",
       "      <th>2</th>\n",
       "      <td>Executive Level</td>\n",
       "      <td>Full-Time</td>\n",
       "      <td>Data scientist</td>\n",
       "      <td>85000</td>\n",
       "      <td>Russia</td>\n",
       "      <td>Office</td>\n",
       "      <td>Russia</td>\n",
       "    </tr>\n",
       "    <tr>\n",
       "      <th>3</th>\n",
       "      <td>Executive Level</td>\n",
       "      <td>Full-Time</td>\n",
       "      <td>Data scientist</td>\n",
       "      <td>230000</td>\n",
       "      <td>Russia</td>\n",
       "      <td>Hybrid</td>\n",
       "      <td>Russia</td>\n",
       "    </tr>\n",
       "    <tr>\n",
       "      <th>4</th>\n",
       "      <td>Entry Level</td>\n",
       "      <td>Full-Time</td>\n",
       "      <td>Machine learning engineer</td>\n",
       "      <td>125000</td>\n",
       "      <td>United States</td>\n",
       "      <td>Remote</td>\n",
       "      <td>United States</td>\n",
       "    </tr>\n",
       "    <tr>\n",
       "      <th>5</th>\n",
       "      <td>Senior Level</td>\n",
       "      <td>Full-Time</td>\n",
       "      <td>Data analyst</td>\n",
       "      <td>120000</td>\n",
       "      <td>United States</td>\n",
       "      <td>Remote</td>\n",
       "      <td>United States</td>\n",
       "    </tr>\n",
       "    <tr>\n",
       "      <th>6</th>\n",
       "      <td>Intermediate  Level</td>\n",
       "      <td>Full-Time</td>\n",
       "      <td>Data scientist</td>\n",
       "      <td>450000</td>\n",
       "      <td>United States</td>\n",
       "      <td>Office</td>\n",
       "      <td>United States</td>\n",
       "    </tr>\n",
       "    <tr>\n",
       "      <th>7</th>\n",
       "      <td>Intermediate  Level</td>\n",
       "      <td>Full-Time</td>\n",
       "      <td>Data analyst</td>\n",
       "      <td>46759</td>\n",
       "      <td>France</td>\n",
       "      <td>Hybrid</td>\n",
       "      <td>France</td>\n",
       "    </tr>\n",
       "    <tr>\n",
       "      <th>8</th>\n",
       "      <td>Intermediate  Level</td>\n",
       "      <td>Full-Time</td>\n",
       "      <td>Data engineer</td>\n",
       "      <td>74130</td>\n",
       "      <td>Austria</td>\n",
       "      <td>Hybrid</td>\n",
       "      <td>Austria</td>\n",
       "    </tr>\n",
       "    <tr>\n",
       "      <th>9</th>\n",
       "      <td>Senior Level</td>\n",
       "      <td>Full-Time</td>\n",
       "      <td>Data engineer</td>\n",
       "      <td>127543</td>\n",
       "      <td>Canada</td>\n",
       "      <td>Hybrid</td>\n",
       "      <td>Canada</td>\n",
       "    </tr>\n",
       "    <tr>\n",
       "      <th>10</th>\n",
       "      <td>Senior Level</td>\n",
       "      <td>Full-Time</td>\n",
       "      <td>Data scientist</td>\n",
       "      <td>144000</td>\n",
       "      <td>United States</td>\n",
       "      <td>Remote</td>\n",
       "      <td>United States</td>\n",
       "    </tr>\n",
       "  </tbody>\n",
       "</table>\n",
       "</div>"
      ],
      "text/plain": [
       "       experience_level employment_type                  job_title  \\\n",
       "0           Entry Level       Full-Time             Data scientist   \n",
       "1          Senior Level       Full-Time             Data scientist   \n",
       "2       Executive Level       Full-Time             Data scientist   \n",
       "3       Executive Level       Full-Time             Data scientist   \n",
       "4           Entry Level       Full-Time  Machine learning engineer   \n",
       "5          Senior Level       Full-Time               Data analyst   \n",
       "6   Intermediate  Level       Full-Time             Data scientist   \n",
       "7   Intermediate  Level       Full-Time               Data analyst   \n",
       "8   Intermediate  Level       Full-Time              Data engineer   \n",
       "9          Senior Level       Full-Time              Data engineer   \n",
       "10         Senior Level       Full-Time             Data scientist   \n",
       "\n",
       "    salary_in_usd employee_residence work_model company_location  \n",
       "0           64369            Germany     Hybrid          Germany  \n",
       "1           68428             Greece     Remote    United States  \n",
       "2           85000             Russia     Office           Russia  \n",
       "3          230000             Russia     Hybrid           Russia  \n",
       "4          125000      United States     Remote    United States  \n",
       "5          120000      United States     Remote    United States  \n",
       "6          450000      United States     Office    United States  \n",
       "7           46759             France     Hybrid           France  \n",
       "8           74130            Austria     Hybrid          Austria  \n",
       "9          127543             Canada     Hybrid           Canada  \n",
       "10         144000      United States     Remote    United States  "
      ]
     },
     "execution_count": 26,
     "metadata": {},
     "output_type": "execute_result"
    }
   ],
   "source": [
    "df[:11]"
   ]
  },
  {
   "cell_type": "code",
   "execution_count": 32,
   "id": "602834b4",
   "metadata": {},
   "outputs": [],
   "source": [
    "df.to_csv('Data_Jobs Salary cap.csv', index=False)"
   ]
  }
 ],
 "metadata": {
  "kernelspec": {
   "display_name": "Python 3 (ipykernel)",
   "language": "python",
   "name": "python3"
  },
  "language_info": {
   "codemirror_mode": {
    "name": "ipython",
    "version": 3
   },
   "file_extension": ".py",
   "mimetype": "text/x-python",
   "name": "python",
   "nbconvert_exporter": "python",
   "pygments_lexer": "ipython3",
   "version": "3.9.12"
  }
 },
 "nbformat": 4,
 "nbformat_minor": 5
}
